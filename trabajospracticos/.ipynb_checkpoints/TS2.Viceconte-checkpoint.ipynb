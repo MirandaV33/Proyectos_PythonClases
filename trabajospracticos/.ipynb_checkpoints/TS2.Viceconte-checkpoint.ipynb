{
 "cells": [
  {
   "cell_type": "markdown",
   "id": "3d2ee5df-7c93-433a-9b47-9eaa47cdff5d",
   "metadata": {},
   "source": [
    "### TS2: Respuesta en frecuencia de Filtros Pasivos RLC"
   ]
  },
  {
   "cell_type": "code",
   "execution_count": null,
   "id": "25ee4668-5700-441d-8cae-c299cc6ef0de",
   "metadata": {},
   "outputs": [],
   "source": []
  }
 ],
 "metadata": {
  "kernelspec": {
   "display_name": "Python 3 (ipykernel)",
   "language": "python",
   "name": "python3"
  },
  "language_info": {
   "codemirror_mode": {
    "name": "ipython",
    "version": 3
   },
   "file_extension": ".py",
   "mimetype": "text/x-python",
   "name": "python",
   "nbconvert_exporter": "python",
   "pygments_lexer": "ipython3",
   "version": "3.13.2"
  }
 },
 "nbformat": 4,
 "nbformat_minor": 5
}
