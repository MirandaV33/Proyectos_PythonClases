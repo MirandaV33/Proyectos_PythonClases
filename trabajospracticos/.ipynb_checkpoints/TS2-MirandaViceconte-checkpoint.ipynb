{
 "cells": [
  {
   "cell_type": "markdown",
   "id": "8be46db7-ee68-499c-94ab-032c93f6466e",
   "metadata": {},
   "source": [
    "# TS6: Transformada Z"
   ]
  },
  {
   "cell_type": "markdown",
   "id": "d0381ee1-1e68-4096-a7ad-4d1765ed9d51",
   "metadata": {},
   "source": [
    "### Miranda Viceconte"
   ]
  },
  {
   "cell_type": "markdown",
   "id": "0927c908-bd4d-4cb7-b140-10e4341da2e3",
   "metadata": {},
   "source": [
    "### 1. Introduccion"
   ]
  },
  {
   "cell_type": "markdown",
   "id": "f76a0ee2-ebec-4d89-9f81-3d4c55d0d4a4",
   "metadata": {},
   "source": []
  },
  {
   "cell_type": "markdown",
   "id": "2e6d20be-5cd2-4805-80f2-61c1ce72d124",
   "metadata": {},
   "source": [
    "### 2. Ejercicio"
   ]
  },
  {
   "cell_type": "markdown",
   "id": "ceed4627-3c9d-4f18-a82f-c37397e1cb8a",
   "metadata": {},
   "source": []
  },
  {
   "cell_type": "markdown",
   "id": "5bb8ec07-52a3-4483-b0a7-e5233ad1afae",
   "metadata": {},
   "source": [
    "### 2.1 Transformada z"
   ]
  },
  {
   "cell_type": "markdown",
   "id": "f2ea9fe6-2da1-4774-9c32-31bb09e011e3",
   "metadata": {},
   "source": []
  },
  {
   "cell_type": "markdown",
   "id": "dabe0de9-9c39-4204-a7ae-15b3dfbc843a",
   "metadata": {},
   "source": [
    "### 2.2 Respuesta en módulo y frecuencia"
   ]
  },
  {
   "cell_type": "code",
   "execution_count": null,
   "id": "97aa086e-155f-4de9-8426-1a8e384e820d",
   "metadata": {},
   "outputs": [],
   "source": []
  },
  {
   "cell_type": "markdown",
   "id": "27fc0dd0-d67e-4266-98fd-a7971b5b0e05",
   "metadata": {},
   "source": [
    "### 2.3 Simulación"
   ]
  },
  {
   "cell_type": "code",
   "execution_count": null,
   "id": "4787a92c-38e3-40a9-b9a1-a7f7861cae39",
   "metadata": {},
   "outputs": [],
   "source": []
  },
  {
   "cell_type": "markdown",
   "id": "d756550c-9c1c-474e-b6e9-d89c15ff65e1",
   "metadata": {},
   "source": [
    "### 3. Análisis"
   ]
  },
  {
   "cell_type": "markdown",
   "id": "45142a8c-056b-46be-a893-46c3a88b32d1",
   "metadata": {},
   "source": []
  }
 ],
 "metadata": {
  "kernelspec": {
   "display_name": "Python 3 (ipykernel)",
   "language": "python",
   "name": "python3"
  },
  "language_info": {
   "codemirror_mode": {
    "name": "ipython",
    "version": 3
   },
   "file_extension": ".py",
   "mimetype": "text/x-python",
   "name": "python",
   "nbconvert_exporter": "python",
   "pygments_lexer": "ipython3",
   "version": "3.13.2"
  }
 },
 "nbformat": 4,
 "nbformat_minor": 5
}
