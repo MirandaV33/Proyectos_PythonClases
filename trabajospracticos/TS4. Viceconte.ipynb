{
 "cells": [
  {
   "cell_type": "markdown",
   "id": "ffe3dc79-2ec0-418d-8c0b-ac0c52bec7af",
   "metadata": {},
   "source": [
    "# TS4: Estimadores espectrales"
   ]
  },
  {
   "cell_type": "code",
   "execution_count": null,
   "id": "c2f1ff1f-c6ef-4a7e-b7f0-f2e3fdfa0ac6",
   "metadata": {},
   "outputs": [],
   "source": []
  }
 ],
 "metadata": {
  "kernelspec": {
   "display_name": "Python 3 (ipykernel)",
   "language": "python",
   "name": "python3"
  },
  "language_info": {
   "codemirror_mode": {
    "name": "ipython",
    "version": 3
   },
   "file_extension": ".py",
   "mimetype": "text/x-python",
   "name": "python",
   "nbconvert_exporter": "python",
   "pygments_lexer": "ipython3",
   "version": "3.13.2"
  }
 },
 "nbformat": 4,
 "nbformat_minor": 5
}
