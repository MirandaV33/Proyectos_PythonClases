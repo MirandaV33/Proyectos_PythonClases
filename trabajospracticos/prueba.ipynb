{
 "cells": [
  {
   "cell_type": "code",
   "execution_count": 1,
   "id": "b26e5963-d090-4120-94eb-1a213745c741",
   "metadata": {},
   "outputs": [
    {
     "data": {
      "text/plain": [
       "'C:\\\\Users\\\\l\\\\OneDrive - Universidad de San Martin\\\\Documentos\\\\FACU\\\\APS\\\\proyectos_python\\\\trabajospracticos'"
      ]
     },
     "execution_count": 1,
     "metadata": {},
     "output_type": "execute_result"
    }
   ],
   "source": [
    "\n",
    "import os\n",
    "os.getcwd()  # Esto te mostrará el directorio actual"
   ]
  },
  {
   "cell_type": "code",
   "execution_count": 4,
   "id": "f178e1f2-c18d-48ee-a6b0-9949d0554893",
   "metadata": {},
   "outputs": [],
   "source": [
    "%matplotlib inline"
   ]
  },
  {
   "cell_type": "code",
   "execution_count": 5,
   "id": "c290da42-1f57-454a-81e7-4543bf30a7a8",
   "metadata": {},
   "outputs": [],
   "source": [
    "%%capture\n",
    "%run TS1.py"
   ]
  },
  {
   "cell_type": "code",
   "execution_count": 6,
   "id": "0bfd135d-930c-42b1-8424-e6fc5555e1a7",
   "metadata": {},
   "outputs": [
    {
     "name": "stdout",
     "output_type": "stream",
     "text": [
      "3.13.2 (tags/v3.13.2:4f8bb39, Feb  4 2025, 15:23:48) [MSC v.1942 64 bit (AMD64)]\n"
     ]
    }
   ],
   "source": [
    "import sys\n",
    "print(sys.version)"
   ]
  },
  {
   "cell_type": "code",
   "execution_count": 7,
   "id": "bb4edca2-65c2-4e77-aa31-4598aa058018",
   "metadata": {},
   "outputs": [
    {
     "name": "stdout",
     "output_type": "stream",
     "text": [
      "3.10.1\n"
     ]
    }
   ],
   "source": [
    "import matplotlib\n",
    "print(matplotlib.__version__)\n"
   ]
  },
  {
   "cell_type": "code",
   "execution_count": null,
   "id": "1bb17ef6-301c-4ac5-9656-97199971222d",
   "metadata": {},
   "outputs": [],
   "source": [
    "import TS1."
   ]
  }
 ],
 "metadata": {
  "kernelspec": {
   "display_name": "Python 3 (ipykernel)",
   "language": "python",
   "name": "python3"
  },
  "language_info": {
   "codemirror_mode": {
    "name": "ipython",
    "version": 3
   },
   "file_extension": ".py",
   "mimetype": "text/x-python",
   "name": "python",
   "nbconvert_exporter": "python",
   "pygments_lexer": "ipython3",
   "version": "3.13.2"
  }
 },
 "nbformat": 4,
 "nbformat_minor": 5
}
